{
 "cells": [
  {
   "cell_type": "markdown",
   "id": "b454a722",
   "metadata": {},
   "source": [
    "### Exercício 1: crie uma função apply_func(func, x) que recebe uma função func e um valor x e retorna func(x)."
   ]
  },
  {
   "cell_type": "code",
   "execution_count": 1,
   "id": "0c4c2673",
   "metadata": {},
   "outputs": [
    {
     "name": "stdout",
     "output_type": "stream",
     "text": [
      "8\n"
     ]
    }
   ],
   "source": [
    "def apply_func(func, x):\n",
    "    return func(x)\n",
    "\n",
    "def add_two(n):\n",
    "    return n + 2\n",
    "\n",
    "add_two_func = apply_func(add_two, 6)\n",
    "print(add_two_func)"
   ]
  },
  {
   "cell_type": "markdown",
   "id": "25a59d00",
   "metadata": {},
   "source": [
    "## Exercício 2: Crie uma função repeat(n) que retorna uma nova função que repete uma string n vezes."
   ]
  },
  {
   "cell_type": "code",
   "execution_count": 3,
   "id": "10bd14e8",
   "metadata": {},
   "outputs": [
    {
     "name": "stdout",
     "output_type": "stream",
     "text": [
      "soda popsoda popsoda pop\n"
     ]
    }
   ],
   "source": [
    "def repeat(times):\n",
    "    def repeat_string(string):\n",
    "        return string * times\n",
    "    \n",
    "    return repeat_string\n",
    "\n",
    "repeat3 = repeat(3)\n",
    "print(repeat3(\"soda pop\"))"
   ]
  },
  {
   "cell_type": "markdown",
   "id": "7561ee1e",
   "metadata": {},
   "source": [
    "## Exercício 3: Crie uma função `meu_map(func, lista)` que recebe uma função e uma lista, e retorna uma nova lista com a função aplicada a cada elemento (sem usar map)."
   ]
  },
  {
   "cell_type": "code",
   "execution_count": 10,
   "id": "491c084e",
   "metadata": {},
   "outputs": [
    {
     "name": "stdout",
     "output_type": "stream",
     "text": [
      "[5, 7, 9, 11]\n",
      "[5, 7, 9, 11]\n"
     ]
    }
   ],
   "source": [
    "def my_map(func, elem_list):\n",
    "    new_list = []\n",
    "    for elem in elem_list:\n",
    "        new_list.append(func(elem))\n",
    "    return new_list\n",
    "\n",
    "#default function\n",
    "def add_two(n):\n",
    "    return n + 2\n",
    "\n",
    "#using lambda function\n",
    "add_two_lambda = lambda x: x + 2\n",
    "\n",
    "current_list = [3, 5, 7, 9]\n",
    "new_list_v1 = my_map(add_two, current_list)\n",
    "print(new_list_v1)\n",
    "\n",
    "new_list_v2 = my_map(add_two_lambda, current_list)\n",
    "print(new_list_v2)\n"
   ]
  },
  {
   "cell_type": "markdown",
   "id": "f80e1103",
   "metadata": {},
   "source": [
    "## Exercício 4: Crie uma função `meu_filter(func, lista)` que recebe uma função e uma lista, e retorna apenas os elementos que satisfazem a função (sem usar filter)."
   ]
  },
  {
   "cell_type": "code",
   "execution_count": 13,
   "id": "ba45d1c2",
   "metadata": {},
   "outputs": [
    {
     "name": "stdout",
     "output_type": "stream",
     "text": [
      "[5, 7, 9, 15, 21]\n"
     ]
    }
   ],
   "source": [
    "def my_filter(func, elem_list):\n",
    "    return [elem for elem in elem_list if func(elem)]\n",
    "\n",
    "def is_odd(n):\n",
    "    return n%2 != 0\n",
    "\n",
    "my_list = [4, 5, 7, 9, 12, 14, 15, 21]\n",
    "filtered_list = my_filter(is_odd, my_list)\n",
    "print(filtered_list)"
   ]
  },
  {
   "cell_type": "markdown",
   "id": "ff189cdd",
   "metadata": {},
   "source": [
    "## Exercício 5: Crie uma função `make_multiplier(n)` que retorna uma função que multiplica qualquer valor por `n`"
   ]
  },
  {
   "cell_type": "code",
   "execution_count": 4,
   "id": "1a9bac36",
   "metadata": {},
   "outputs": [
    {
     "name": "stdout",
     "output_type": "stream",
     "text": [
      "15\n"
     ]
    }
   ],
   "source": [
    "def make_multiplier(n):\n",
    "    def multiply(x):\n",
    "        return x * n\n",
    "\n",
    "    return multiply \n",
    "\n",
    "multiplier_3 = make_multiplier(3)\n",
    "print(multiplier_3(5))"
   ]
  },
  {
   "cell_type": "markdown",
   "id": "ce4491f1",
   "metadata": {},
   "source": [
    "## Exercício 6: Crie uma função `make_adder(n)` que retorna uma função que soma n a qualquer valor."
   ]
  },
  {
   "cell_type": "code",
   "execution_count": 6,
   "id": "fb180eda",
   "metadata": {},
   "outputs": [
    {
     "name": "stdout",
     "output_type": "stream",
     "text": [
      "10\n"
     ]
    }
   ],
   "source": [
    "def make_adder(n):\n",
    "    def add_number(x):\n",
    "        return n + x\n",
    "    \n",
    "    return add_number\n",
    "    \n",
    "add_4 = make_adder(4)\n",
    "print(add_4(6))"
   ]
  },
  {
   "cell_type": "markdown",
   "id": "c630d7d2",
   "metadata": {},
   "source": [
    "## Exercício 7: Combine `make_multiplier` e `make_adder` para criar uma função que primeiro multiplica e depois soma. "
   ]
  },
  {
   "cell_type": "code",
   "execution_count": 8,
   "id": "ef250e0a",
   "metadata": {},
   "outputs": [
    {
     "name": "stdout",
     "output_type": "stream",
     "text": [
      "17\n"
     ]
    }
   ],
   "source": [
    "def make_adder(n):\n",
    "    def add_number(x):\n",
    "        return n + x\n",
    "    \n",
    "    return add_number\n",
    "\n",
    "def make_multiplier(n):\n",
    "    def multiply(x):\n",
    "        return x * n\n",
    "\n",
    "    return multiply \n",
    "\n",
    "def combine_mult_add(multiplier_val, adder_val):\n",
    "    mult = make_multiplier(multiplier_val)\n",
    "    add = make_adder(adder_val)\n",
    "    \n",
    "    def combined(x):\n",
    "        return add(mult(x))  \n",
    "    return combined\n",
    "\n",
    "combiner = combine_mult_add(5, 7)\n",
    "print(combiner(2))"
   ]
  },
  {
   "cell_type": "markdown",
   "id": "291f1b47",
   "metadata": {},
   "source": []
  }
 ],
 "metadata": {
  "kernelspec": {
   "display_name": "3.12.0",
   "language": "python",
   "name": "python3"
  },
  "language_info": {
   "codemirror_mode": {
    "name": "ipython",
    "version": 3
   },
   "file_extension": ".py",
   "mimetype": "text/x-python",
   "name": "python",
   "nbconvert_exporter": "python",
   "pygments_lexer": "ipython3",
   "version": "3.12.0"
  }
 },
 "nbformat": 4,
 "nbformat_minor": 5
}
