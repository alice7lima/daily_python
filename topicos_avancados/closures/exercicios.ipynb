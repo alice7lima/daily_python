{
 "cells": [
  {
   "cell_type": "markdown",
   "id": "5e65d623",
   "metadata": {},
   "source": [
    "### Exemplos anotações"
   ]
  },
  {
   "cell_type": "code",
   "execution_count": 4,
   "id": "d1d9826b",
   "metadata": {},
   "outputs": [
    {
     "name": "stdout",
     "output_type": "stream",
     "text": [
      "sou um argumento externo\n",
      "sou variavel local da funcao_externa\n",
      "sou a segunda variavel local de funcao_externa\n"
     ]
    }
   ],
   "source": [
    "def funcao_externa(frase):\n",
    "    variavel_local = \"sou variavel local da funcao_externa\"\n",
    "    def closure():\n",
    "        print(frase)\n",
    "        print(variavel_local)\n",
    "        print(outra_variavel_local)\n",
    "    outra_variavel_local = \"sou a segunda variavel local de funcao_externa\"\n",
    "    return closure\n",
    "\n",
    "closure = funcao_externa(\"sou um argumento externo\")\n",
    "closure()"
   ]
  },
  {
   "cell_type": "code",
   "execution_count": 6,
   "id": "4129653c",
   "metadata": {},
   "outputs": [
    {
     "name": "stdout",
     "output_type": "stream",
     "text": [
      "3\n"
     ]
    },
    {
     "ename": "UnboundLocalError",
     "evalue": "cannot access local variable 'b' where it is not associated with a value",
     "output_type": "error",
     "traceback": [
      "\u001b[31m---------------------------------------------------------------------------\u001b[39m",
      "\u001b[31mUnboundLocalError\u001b[39m                         Traceback (most recent call last)",
      "\u001b[36mCell\u001b[39m\u001b[36m \u001b[39m\u001b[32mIn[6]\u001b[39m\u001b[32m, line 7\u001b[39m\n\u001b[32m      4\u001b[39m     \u001b[38;5;28mprint\u001b[39m(b)\n\u001b[32m      5\u001b[39m     b = \u001b[32m9\u001b[39m\n\u001b[32m----> \u001b[39m\u001b[32m7\u001b[39m \u001b[43mf2\u001b[49m\u001b[43m(\u001b[49m\u001b[32;43m3\u001b[39;49m\u001b[43m)\u001b[49m\n",
      "\u001b[36mCell\u001b[39m\u001b[36m \u001b[39m\u001b[32mIn[6]\u001b[39m\u001b[32m, line 4\u001b[39m, in \u001b[36mf2\u001b[39m\u001b[34m(a)\u001b[39m\n\u001b[32m      2\u001b[39m \u001b[38;5;28;01mdef\u001b[39;00m\u001b[38;5;250m \u001b[39m\u001b[34mf2\u001b[39m(a):\n\u001b[32m      3\u001b[39m     \u001b[38;5;28mprint\u001b[39m(a)\n\u001b[32m----> \u001b[39m\u001b[32m4\u001b[39m     \u001b[38;5;28mprint\u001b[39m(\u001b[43mb\u001b[49m)\n\u001b[32m      5\u001b[39m     b = \u001b[32m9\u001b[39m\n",
      "\u001b[31mUnboundLocalError\u001b[39m: cannot access local variable 'b' where it is not associated with a value"
     ]
    }
   ],
   "source": [
    "b = 6\n",
    "def f2(a):\n",
    "    print(a)\n",
    "    print(b)\n",
    "    b = 9\n",
    "\n",
    "f2(3)"
   ]
  },
  {
   "cell_type": "markdown",
   "id": "34f8df37",
   "metadata": {},
   "source": [
    "### Exercício 1: Crie uma função `cria_multiplicador(n)` que retorne uma função que multiplica qualquer número por n."
   ]
  },
  {
   "cell_type": "code",
   "execution_count": 1,
   "id": "a101d2c5",
   "metadata": {},
   "outputs": [
    {
     "name": "stdout",
     "output_type": "stream",
     "text": [
      "15\n"
     ]
    }
   ],
   "source": [
    "def cria_multiplicacao(n):\n",
    "    def multiplica(m):\n",
    "        return n * m\n",
    "    return multiplica\n",
    "\n",
    "multiplo_3 = cria_multiplicacao(3)\n",
    "print(multiplo_3(5))"
   ]
  },
  {
   "cell_type": "markdown",
   "id": "dfa6725c",
   "metadata": {},
   "source": [
    "### Exercício 2: Implemente uma função `filtro_maior_que(limite)` que retorna uma função que verifica se um número é maior que `limite`."
   ]
  },
  {
   "cell_type": "code",
   "execution_count": 2,
   "id": "e3a50a15",
   "metadata": {},
   "outputs": [
    {
     "name": "stdout",
     "output_type": "stream",
     "text": [
      "False\n"
     ]
    }
   ],
   "source": [
    "def filtro_maior_que(limite):\n",
    "    def verifica_limite(numero):\n",
    "        return numero > limite\n",
    "    \n",
    "    return verifica_limite\n",
    "\n",
    "maior_que_10 = filtro_maior_que(10)\n",
    "print(maior_que_10(7))"
   ]
  },
  {
   "cell_type": "markdown",
   "id": "9b8dcd1b",
   "metadata": {},
   "source": [
    "### Exercício 3: Crie uma função `contador()` que retorna uma função que, a cada chamada, retorna quantas vezes foi chamada."
   ]
  },
  {
   "cell_type": "code",
   "execution_count": null,
   "id": "9345efd7",
   "metadata": {},
   "outputs": [
    {
     "name": "stdout",
     "output_type": "stream",
     "text": [
      "1\n",
      "2\n",
      "3\n",
      "4\n",
      "5\n",
      "6\n",
      "7\n",
      "8\n"
     ]
    }
   ],
   "source": [
    "def contador():\n",
    "    quantitade_chamadas = 0\n",
    "    def conta():\n",
    "        nonlocal quantitade_chamadas\n",
    "        quantitade_chamadas += 1\n",
    "        return quantitade_chamadas\n",
    "    \n",
    "    return conta\n",
    "\n",
    "c = contador()\n",
    "for vez in range(0, 8):\n",
    "    print(c())"
   ]
  },
  {
   "cell_type": "markdown",
   "id": "5a108b07",
   "metadata": {},
   "source": [
    "### Exercício 4: Implemente uma função `rastreador_min_max()` que retorna uma função que recebe um número e retorna o mínimo e máximo vistos até agora."
   ]
  },
  {
   "cell_type": "code",
   "execution_count": 9,
   "id": "165a332d",
   "metadata": {},
   "outputs": [
    {
     "name": "stdout",
     "output_type": "stream",
     "text": [
      "{'Mínimo': 3, 'Máximo': 3}\n",
      "{'Mínimo': 3, 'Máximo': 7}\n",
      "{'Mínimo': 3, 'Máximo': 9}\n",
      "{'Mínimo': 1, 'Máximo': 9}\n"
     ]
    }
   ],
   "source": [
    "def rastreador_min_max():\n",
    "    numeros = []\n",
    "    def retorna_min_max(n):\n",
    "        numeros.append(n)\n",
    "        return {'Mínimo': min(numeros), 'Máximo': max(numeros)}\n",
    "    return retorna_min_max\n",
    "\n",
    "rastreador = rastreador_min_max()\n",
    "\n",
    "print(rastreador(3))\n",
    "print(rastreador(7))\n",
    "print(rastreador(9))\n",
    "print(rastreador(1))"
   ]
  },
  {
   "cell_type": "markdown",
   "id": "8f582f94",
   "metadata": {},
   "source": [
    "### Exercício 5: Crie uma função `cria_normalizador(min_val, max_val)` que retorna uma função que normaliza valores para o intervalo `[0,1]`."
   ]
  },
  {
   "cell_type": "code",
   "execution_count": 11,
   "id": "95baf28d",
   "metadata": {},
   "outputs": [
    {
     "name": "stdout",
     "output_type": "stream",
     "text": [
      "0.5\n"
     ]
    }
   ],
   "source": [
    "def cria_normalizador(min_val, max_val):\n",
    "    def normaliza(n):\n",
    "        return (n-min_val)/(max_val-min_val)\n",
    "    return normaliza\n",
    "\n",
    "normalizador = cria_normalizador(10, 50)\n",
    "print(normalizador(30))"
   ]
  },
  {
   "cell_type": "markdown",
   "id": "8da7450e",
   "metadata": {},
   "source": [
    "### Exercício 6: Implemente `cria_limpeza_texto(strip=True, lower=True, replace_char=None)` que retorna uma função para limpar strings de acordo com as opções passadas."
   ]
  },
  {
   "cell_type": "code",
   "execution_count": 15,
   "id": "1c55f7e2",
   "metadata": {},
   "outputs": [
    {
     "name": "stdout",
     "output_type": "stream",
     "text": [
      "agora quando eu falo tenho que cantar assim\n",
      "Agora quando eu Falo tenho que CanTar Assim\n"
     ]
    }
   ],
   "source": [
    "def cria_limpeza_texto(strip=True, lower=True, replace_char=None):\n",
    "    def limpa_texto(texto):\n",
    "        if strip:\n",
    "            texto = texto.strip()\n",
    "        if lower:\n",
    "            texto = texto.lower()\n",
    "        if replace_char:\n",
    "            for antigo, novo in replace_char.items():\n",
    "                texto = texto.replace(antigo, novo)\n",
    "        return texto\n",
    "    \n",
    "    return limpa_texto\n",
    "\n",
    "texto = 'Agora quando eu Falo_ tenho que CanTar Assim '\n",
    "padronizar = cria_limpeza_texto(replace_char={'_':''})\n",
    "print(padronizar(texto))\n",
    "\n",
    "padronizar_v2 = cria_limpeza_texto(lower=False, replace_char={'_':''})\n",
    "print(padronizar_v2(texto))\n"
   ]
  },
  {
   "cell_type": "markdown",
   "id": "5574ca68",
   "metadata": {},
   "source": [
    "### Exercício 7: Crie uma função `media_cumulativa()` que retorna uma função que calcula a média de todos os valores passados até o momento."
   ]
  },
  {
   "cell_type": "code",
   "execution_count": 19,
   "id": "33dde9f9",
   "metadata": {},
   "outputs": [
    {
     "name": "stdout",
     "output_type": "stream",
     "text": [
      "7.0\n",
      "4.5\n"
     ]
    }
   ],
   "source": [
    "def media_cumulativa():\n",
    "    valores = []\n",
    "    def calcula_media(n):\n",
    "        valores.append(n)\n",
    "        return sum(valores)/len(valores)\n",
    "    return calcula_media\n",
    "\n",
    "calculo_media = media_cumulativa()\n",
    "print(calculo_media(7))\n",
    "print(calculo_media(2))"
   ]
  }
 ],
 "metadata": {
  "kernelspec": {
   "display_name": "3.12.0",
   "language": "python",
   "name": "python3"
  },
  "language_info": {
   "codemirror_mode": {
    "name": "ipython",
    "version": 3
   },
   "file_extension": ".py",
   "mimetype": "text/x-python",
   "name": "python",
   "nbconvert_exporter": "python",
   "pygments_lexer": "ipython3",
   "version": "3.12.0"
  }
 },
 "nbformat": 4,
 "nbformat_minor": 5
}
