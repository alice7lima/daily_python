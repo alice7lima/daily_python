{
 "cells": [
  {
   "cell_type": "markdown",
   "id": "137e7bb4",
   "metadata": {},
   "source": [
    "### Exercício 1: Receba uma lista de inteiros e retorne uma lista com os seus quadrados"
   ]
  },
  {
   "cell_type": "code",
   "execution_count": 2,
   "id": "d1e9c3a3",
   "metadata": {},
   "outputs": [
    {
     "data": {
      "text/plain": [
       "[1, 4, 9, 16, 25]"
      ]
     },
     "execution_count": 2,
     "metadata": {},
     "output_type": "execute_result"
    }
   ],
   "source": [
    "def calcula_quadrado_dos_numeros(lista_numeros):\n",
    "    lista_transformada = list(map(lambda x: x ** 2, lista_numeros))\n",
    "    return lista_transformada\n",
    "\n",
    "numeros = [1, 2, 3, 4, 5]\n",
    "calcula_quadrado_dos_numeros(numeros)"
   ]
  },
  {
   "cell_type": "markdown",
   "id": "b83fc3d3",
   "metadata": {},
   "source": [
    "### Exercício 2: Receba uma lista de inteiros e filtre os números pares"
   ]
  },
  {
   "cell_type": "code",
   "execution_count": 4,
   "id": "877f678f",
   "metadata": {},
   "outputs": [
    {
     "data": {
      "text/plain": [
       "[2, 4]"
      ]
     },
     "execution_count": 4,
     "metadata": {},
     "output_type": "execute_result"
    }
   ],
   "source": [
    "def filtra_numeros_pares(lista_numeros):\n",
    "    pares = list(filter(lambda x: x % 2 == 0, lista_numeros))\n",
    "    return pares\n",
    "    \n",
    "numeros = [1, 2, 3, 4, 5]\n",
    "filtra_numeros_pares(numeros)"
   ]
  },
  {
   "cell_type": "markdown",
   "id": "09db9f90",
   "metadata": {},
   "source": [
    "### Exercício 3: Receba uma lista de strings e ordene pelo tamanho"
   ]
  },
  {
   "cell_type": "code",
   "execution_count": 5,
   "id": "f88d7bed",
   "metadata": {},
   "outputs": [
    {
     "data": {
      "text/plain": [
       "['e', 'de', 'tudo', 'jazz', 'festa', 'tocou', 'também', 'Naquela']"
      ]
     },
     "execution_count": 5,
     "metadata": {},
     "output_type": "execute_result"
    }
   ],
   "source": [
    "def ordenar_palavras_tamanho(lista_palavras):\n",
    "    palavras_ordenadas = sorted(lista_palavras, key=lambda x: len(x))\n",
    "    return palavras_ordenadas\n",
    "\n",
    "palavras = [\"Naquela\", \"festa\", \"tocou\", \"de\", \"tudo\", \"e\", \"também\", \"jazz\"]\n",
    "ordenar_palavras_tamanho(palavras)"
   ]
  },
  {
   "cell_type": "markdown",
   "id": "3337862b",
   "metadata": {},
   "source": [
    "### Exercício 4: Receba uma lista com nome e idade de pessoas e ordene pela idade"
   ]
  },
  {
   "cell_type": "code",
   "execution_count": 6,
   "id": "dc8c17e1",
   "metadata": {},
   "outputs": [
    {
     "data": {
      "text/plain": [
       "[('Maria', 19), ('Ana', 23), ('João', 35), ('Pedro', 40)]"
      ]
     },
     "execution_count": 6,
     "metadata": {},
     "output_type": "execute_result"
    }
   ],
   "source": [
    "def ordena_por_idade(lista_pessoas):\n",
    "    pessoas_ordenadas = sorted(lista_pessoas, key = lambda pessoa: pessoa[1])\n",
    "    return pessoas_ordenadas\n",
    "\n",
    "pessoas = [(\"Ana\", 23), (\"João\", 35), (\"Maria\", 19), (\"Pedro\", 40)]\n",
    "ordena_por_idade(pessoas)"
   ]
  },
  {
   "cell_type": "markdown",
   "id": "97afadef",
   "metadata": {},
   "source": [
    "### Exercício 5: Receba uma lista com nomes e padronize-os deixando a primeira lista maiúscula e as demais minúsculas"
   ]
  },
  {
   "cell_type": "code",
   "execution_count": null,
   "id": "bee66392",
   "metadata": {},
   "outputs": [],
   "source": [
    "def padronizar_nomes(lista_nomes):\n",
    "    nomes_padronizados = list(map(lambda nome: nome.capitalize(), lista_nomes))\n",
    "    return nomes_padronizados\n",
    "\n",
    "nomes = [\"ana\", \"JOÃO\", \"mArIa\"]\n",
    "padronizar_nomes(nomes)"
   ]
  }
 ],
 "metadata": {
  "kernelspec": {
   "display_name": "3.12.0",
   "language": "python",
   "name": "python3"
  },
  "language_info": {
   "codemirror_mode": {
    "name": "ipython",
    "version": 3
   },
   "file_extension": ".py",
   "mimetype": "text/x-python",
   "name": "python",
   "nbconvert_exporter": "python",
   "pygments_lexer": "ipython3",
   "version": "3.12.0"
  }
 },
 "nbformat": 4,
 "nbformat_minor": 5
}
