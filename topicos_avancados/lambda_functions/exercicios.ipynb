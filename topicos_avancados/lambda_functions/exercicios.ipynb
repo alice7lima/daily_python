{
 "cells": [
  {
   "cell_type": "code",
   "execution_count": 10,
   "id": "05714987",
   "metadata": {},
   "outputs": [
    {
     "name": "stdout",
     "output_type": "stream",
     "text": [
      "Collecting pandas\n",
      "  Obtaining dependency information for pandas from https://files.pythonhosted.org/packages/d3/a4/f7edcfa47e0a88cda0be8b068a5bae710bf264f867edfdf7b71584ace362/pandas-2.3.2-cp312-cp312-manylinux_2_17_x86_64.manylinux2014_x86_64.whl.metadata\n",
      "  Downloading pandas-2.3.2-cp312-cp312-manylinux_2_17_x86_64.manylinux2014_x86_64.whl.metadata (91 kB)\n",
      "\u001b[2K     \u001b[90m━━━━━━━━━━━━━━━━━━━━━━━━━━━━━━━━━━━━━━━━\u001b[0m \u001b[32m91.2/91.2 kB\u001b[0m \u001b[31m1.9 MB/s\u001b[0m eta \u001b[36m0:00:00\u001b[0ma \u001b[36m0:00:01\u001b[0m\n",
      "\u001b[?25hRequirement already satisfied: numpy>=1.26.0 in /home/alice/.pyenv/versions/3.12.0/lib/python3.12/site-packages (from pandas) (2.2.1)\n",
      "Requirement already satisfied: python-dateutil>=2.8.2 in /home/alice/.pyenv/versions/3.12.0/lib/python3.12/site-packages (from pandas) (2.9.0.post0)\n",
      "Requirement already satisfied: pytz>=2020.1 in /home/alice/.pyenv/versions/3.12.0/lib/python3.12/site-packages (from pandas) (2024.2)\n",
      "Requirement already satisfied: tzdata>=2022.7 in /home/alice/.pyenv/versions/3.12.0/lib/python3.12/site-packages (from pandas) (2024.2)\n",
      "Requirement already satisfied: six>=1.5 in /home/alice/.pyenv/versions/3.12.0/lib/python3.12/site-packages (from python-dateutil>=2.8.2->pandas) (1.17.0)\n",
      "Downloading pandas-2.3.2-cp312-cp312-manylinux_2_17_x86_64.manylinux2014_x86_64.whl (12.0 MB)\n",
      "\u001b[2K   \u001b[90m━━━━━━━━━━━━━━━━━━━━━━━━━━━━━━━━━━━━━━━━\u001b[0m \u001b[32m12.0/12.0 MB\u001b[0m \u001b[31m11.3 MB/s\u001b[0m eta \u001b[36m0:00:00\u001b[0m00:01\u001b[0m00:01\u001b[0m\n",
      "\u001b[?25hInstalling collected packages: pandas\n",
      "Successfully installed pandas-2.3.2\n",
      "\n",
      "\u001b[1m[\u001b[0m\u001b[34;49mnotice\u001b[0m\u001b[1;39;49m]\u001b[0m\u001b[39;49m A new release of pip is available: \u001b[0m\u001b[31;49m23.2.1\u001b[0m\u001b[39;49m -> \u001b[0m\u001b[32;49m25.2\u001b[0m\n",
      "\u001b[1m[\u001b[0m\u001b[34;49mnotice\u001b[0m\u001b[1;39;49m]\u001b[0m\u001b[39;49m To update, run: \u001b[0m\u001b[32;49mpip install --upgrade pip\u001b[0m\n"
     ]
    }
   ],
   "source": [
    "!pip install pandas"
   ]
  },
  {
   "cell_type": "markdown",
   "id": "137e7bb4",
   "metadata": {},
   "source": [
    "### Exercício 1: Receba uma lista de inteiros e retorne uma lista com os seus quadrados"
   ]
  },
  {
   "cell_type": "code",
   "execution_count": 2,
   "id": "d1e9c3a3",
   "metadata": {},
   "outputs": [
    {
     "data": {
      "text/plain": [
       "[1, 4, 9, 16, 25]"
      ]
     },
     "execution_count": 2,
     "metadata": {},
     "output_type": "execute_result"
    }
   ],
   "source": [
    "def calcula_quadrado_dos_numeros(lista_numeros):\n",
    "    lista_transformada = list(map(lambda x: x ** 2, lista_numeros))\n",
    "    return lista_transformada\n",
    "\n",
    "numeros = [1, 2, 3, 4, 5]\n",
    "calcula_quadrado_dos_numeros(numeros)"
   ]
  },
  {
   "cell_type": "markdown",
   "id": "b83fc3d3",
   "metadata": {},
   "source": [
    "### Exercício 2: Receba uma lista de inteiros e filtre os números pares"
   ]
  },
  {
   "cell_type": "code",
   "execution_count": 4,
   "id": "877f678f",
   "metadata": {},
   "outputs": [
    {
     "data": {
      "text/plain": [
       "[2, 4]"
      ]
     },
     "execution_count": 4,
     "metadata": {},
     "output_type": "execute_result"
    }
   ],
   "source": [
    "def filtra_numeros_pares(lista_numeros):\n",
    "    pares = list(filter(lambda x: x % 2 == 0, lista_numeros))\n",
    "    return pares\n",
    "    \n",
    "numeros = [1, 2, 3, 4, 5]\n",
    "filtra_numeros_pares(numeros)"
   ]
  },
  {
   "cell_type": "markdown",
   "id": "09db9f90",
   "metadata": {},
   "source": [
    "### Exercício 3: Receba uma lista de strings e ordene pelo tamanho"
   ]
  },
  {
   "cell_type": "code",
   "execution_count": 5,
   "id": "f88d7bed",
   "metadata": {},
   "outputs": [
    {
     "data": {
      "text/plain": [
       "['e', 'de', 'tudo', 'jazz', 'festa', 'tocou', 'também', 'Naquela']"
      ]
     },
     "execution_count": 5,
     "metadata": {},
     "output_type": "execute_result"
    }
   ],
   "source": [
    "def ordenar_palavras_tamanho(lista_palavras):\n",
    "    palavras_ordenadas = sorted(lista_palavras, key=lambda x: len(x))\n",
    "    return palavras_ordenadas\n",
    "\n",
    "palavras = [\"Naquela\", \"festa\", \"tocou\", \"de\", \"tudo\", \"e\", \"também\", \"jazz\"]\n",
    "ordenar_palavras_tamanho(palavras)"
   ]
  },
  {
   "cell_type": "markdown",
   "id": "3337862b",
   "metadata": {},
   "source": [
    "### Exercício 4: Receba uma lista com nome e idade de pessoas e ordene pela idade"
   ]
  },
  {
   "cell_type": "code",
   "execution_count": 6,
   "id": "dc8c17e1",
   "metadata": {},
   "outputs": [
    {
     "data": {
      "text/plain": [
       "[('Maria', 19), ('Ana', 23), ('João', 35), ('Pedro', 40)]"
      ]
     },
     "execution_count": 6,
     "metadata": {},
     "output_type": "execute_result"
    }
   ],
   "source": [
    "def ordena_por_idade(lista_pessoas):\n",
    "    pessoas_ordenadas = sorted(lista_pessoas, key = lambda pessoa: pessoa[1])\n",
    "    return pessoas_ordenadas\n",
    "\n",
    "pessoas = [(\"Ana\", 23), (\"João\", 35), (\"Maria\", 19), (\"Pedro\", 40)]\n",
    "ordena_por_idade(pessoas)"
   ]
  },
  {
   "cell_type": "markdown",
   "id": "97afadef",
   "metadata": {},
   "source": [
    "### Exercício 5: Receba uma lista com nomes e padronize-os deixando a primeira lista maiúscula e as demais minúsculas"
   ]
  },
  {
   "cell_type": "code",
   "execution_count": 7,
   "id": "bee66392",
   "metadata": {},
   "outputs": [
    {
     "data": {
      "text/plain": [
       "['Ana', 'João', 'Maria']"
      ]
     },
     "execution_count": 7,
     "metadata": {},
     "output_type": "execute_result"
    }
   ],
   "source": [
    "def padronizar_nomes(lista_nomes):\n",
    "    nomes_padronizados = list(map(lambda nome: nome.capitalize(), lista_nomes))\n",
    "    return nomes_padronizados\n",
    "\n",
    "nomes = [\"ana\", \"JOÃO\", \"mArIa\"]\n",
    "padronizar_nomes(nomes)"
   ]
  },
  {
   "cell_type": "markdown",
   "id": "2c42a64f",
   "metadata": {},
   "source": [
    "## Exercício 6: Receba uma lista com notas e retorne apenas as notas acima da média (o valor da média é 7)"
   ]
  },
  {
   "cell_type": "code",
   "execution_count": 9,
   "id": "686522f9",
   "metadata": {},
   "outputs": [
    {
     "data": {
      "text/plain": [
       "[7.5, 8.0, 9.1]"
      ]
     },
     "execution_count": 9,
     "metadata": {},
     "output_type": "execute_result"
    }
   ],
   "source": [
    "def filtra_notas_acima_media(lista_notas):\n",
    "    notas_acima_media = list(filter(lambda x: x >= 7, lista_notas))\n",
    "    return notas_acima_media\n",
    "\n",
    "notas = [7.5, 8.0, 6.4, 9.1, 5.0]\n",
    "filtra_notas_acima_media(notas)"
   ]
  },
  {
   "cell_type": "markdown",
   "id": "347049d5",
   "metadata": {},
   "source": [
    "## Exercício 7: criar nova coluna de bônus no dataframe (o bônus corresponde a )"
   ]
  },
  {
   "cell_type": "code",
   "execution_count": 14,
   "id": "469bdd13",
   "metadata": {},
   "outputs": [
    {
     "data": {
      "text/html": [
       "<div>\n",
       "<style scoped>\n",
       "    .dataframe tbody tr th:only-of-type {\n",
       "        vertical-align: middle;\n",
       "    }\n",
       "\n",
       "    .dataframe tbody tr th {\n",
       "        vertical-align: top;\n",
       "    }\n",
       "\n",
       "    .dataframe thead th {\n",
       "        text-align: right;\n",
       "    }\n",
       "</style>\n",
       "<table border=\"1\" class=\"dataframe\">\n",
       "  <thead>\n",
       "    <tr style=\"text-align: right;\">\n",
       "      <th></th>\n",
       "      <th>nome</th>\n",
       "      <th>salario</th>\n",
       "      <th>bonus</th>\n",
       "    </tr>\n",
       "  </thead>\n",
       "  <tbody>\n",
       "    <tr>\n",
       "      <th>0</th>\n",
       "      <td>Ana</td>\n",
       "      <td>2500</td>\n",
       "      <td>250.0</td>\n",
       "    </tr>\n",
       "    <tr>\n",
       "      <th>1</th>\n",
       "      <td>João</td>\n",
       "      <td>4000</td>\n",
       "      <td>400.0</td>\n",
       "    </tr>\n",
       "    <tr>\n",
       "      <th>2</th>\n",
       "      <td>Maria</td>\n",
       "      <td>3200</td>\n",
       "      <td>320.0</td>\n",
       "    </tr>\n",
       "    <tr>\n",
       "      <th>3</th>\n",
       "      <td>Pedro</td>\n",
       "      <td>5000</td>\n",
       "      <td>500.0</td>\n",
       "    </tr>\n",
       "  </tbody>\n",
       "</table>\n",
       "</div>"
      ],
      "text/plain": [
       "    nome  salario  bonus\n",
       "0    Ana     2500  250.0\n",
       "1   João     4000  400.0\n",
       "2  Maria     3200  320.0\n",
       "3  Pedro     5000  500.0"
      ]
     },
     "execution_count": 14,
     "metadata": {},
     "output_type": "execute_result"
    }
   ],
   "source": [
    "import pandas as pd\n",
    "df = pd.DataFrame({\n",
    "    \"nome\": [\"Ana\", \"João\", \"Maria\", \"Pedro\"],\n",
    "    \"salario\": [2500, 4000, 3200, 5000]\n",
    "})\n",
    "\n",
    "df[\"bonus\"] = df[\"salario\"].apply(lambda salario: salario * 0.10)\n",
    "df"
   ]
  },
  {
   "cell_type": "markdown",
   "id": "47954d74",
   "metadata": {},
   "source": [
    "## Exercício 10: Criar no df anterior a coluna categoria, informando a categoria do salário, que segue as regras:\n",
    "- \"Baixo\" se < 3000\n",
    "- \"Médio\" se 3000 ≤ salario < 4500\n",
    "- \"Alto\" se ≥ 4500"
   ]
  },
  {
   "cell_type": "code",
   "execution_count": 16,
   "id": "46a1af56",
   "metadata": {},
   "outputs": [
    {
     "data": {
      "text/html": [
       "<div>\n",
       "<style scoped>\n",
       "    .dataframe tbody tr th:only-of-type {\n",
       "        vertical-align: middle;\n",
       "    }\n",
       "\n",
       "    .dataframe tbody tr th {\n",
       "        vertical-align: top;\n",
       "    }\n",
       "\n",
       "    .dataframe thead th {\n",
       "        text-align: right;\n",
       "    }\n",
       "</style>\n",
       "<table border=\"1\" class=\"dataframe\">\n",
       "  <thead>\n",
       "    <tr style=\"text-align: right;\">\n",
       "      <th></th>\n",
       "      <th>nome</th>\n",
       "      <th>salario</th>\n",
       "      <th>bonus</th>\n",
       "      <th>categoria_salario</th>\n",
       "    </tr>\n",
       "  </thead>\n",
       "  <tbody>\n",
       "    <tr>\n",
       "      <th>0</th>\n",
       "      <td>Ana</td>\n",
       "      <td>2500</td>\n",
       "      <td>250.0</td>\n",
       "      <td>Baixo</td>\n",
       "    </tr>\n",
       "    <tr>\n",
       "      <th>1</th>\n",
       "      <td>João</td>\n",
       "      <td>4000</td>\n",
       "      <td>400.0</td>\n",
       "      <td>Médio</td>\n",
       "    </tr>\n",
       "    <tr>\n",
       "      <th>2</th>\n",
       "      <td>Maria</td>\n",
       "      <td>3200</td>\n",
       "      <td>320.0</td>\n",
       "      <td>Médio</td>\n",
       "    </tr>\n",
       "    <tr>\n",
       "      <th>3</th>\n",
       "      <td>Pedro</td>\n",
       "      <td>5000</td>\n",
       "      <td>500.0</td>\n",
       "      <td>Alto</td>\n",
       "    </tr>\n",
       "  </tbody>\n",
       "</table>\n",
       "</div>"
      ],
      "text/plain": [
       "    nome  salario  bonus categoria_salario\n",
       "0    Ana     2500  250.0             Baixo\n",
       "1   João     4000  400.0             Médio\n",
       "2  Maria     3200  320.0             Médio\n",
       "3  Pedro     5000  500.0              Alto"
      ]
     },
     "execution_count": 16,
     "metadata": {},
     "output_type": "execute_result"
    }
   ],
   "source": [
    "df[\"categoria_salario\"] = df[\"salario\"].apply(lambda salario: \"Baixo\" if salario < 3000 else (\"Médio\" if salario < 4500 else \"Alto\"))\n",
    "df"
   ]
  },
  {
   "cell_type": "markdown",
   "id": "5cb16c90",
   "metadata": {},
   "source": [
    "## Exercício 11: Filtrar pessoas cujo nome inicie com a letra \"M\""
   ]
  },
  {
   "cell_type": "code",
   "execution_count": 19,
   "id": "48f9220f",
   "metadata": {},
   "outputs": [
    {
     "data": {
      "text/html": [
       "<div>\n",
       "<style scoped>\n",
       "    .dataframe tbody tr th:only-of-type {\n",
       "        vertical-align: middle;\n",
       "    }\n",
       "\n",
       "    .dataframe tbody tr th {\n",
       "        vertical-align: top;\n",
       "    }\n",
       "\n",
       "    .dataframe thead th {\n",
       "        text-align: right;\n",
       "    }\n",
       "</style>\n",
       "<table border=\"1\" class=\"dataframe\">\n",
       "  <thead>\n",
       "    <tr style=\"text-align: right;\">\n",
       "      <th></th>\n",
       "      <th>nome</th>\n",
       "      <th>idade</th>\n",
       "      <th>salario</th>\n",
       "    </tr>\n",
       "  </thead>\n",
       "  <tbody>\n",
       "    <tr>\n",
       "      <th>2</th>\n",
       "      <td>Maria</td>\n",
       "      <td>19</td>\n",
       "      <td>3200</td>\n",
       "    </tr>\n",
       "    <tr>\n",
       "      <th>4</th>\n",
       "      <td>Marcelo</td>\n",
       "      <td>28</td>\n",
       "      <td>2700</td>\n",
       "    </tr>\n",
       "    <tr>\n",
       "      <th>5</th>\n",
       "      <td>Marta</td>\n",
       "      <td>32</td>\n",
       "      <td>3300</td>\n",
       "    </tr>\n",
       "  </tbody>\n",
       "</table>\n",
       "</div>"
      ],
      "text/plain": [
       "      nome  idade  salario\n",
       "2    Maria     19     3200\n",
       "4  Marcelo     28     2700\n",
       "5    Marta     32     3300"
      ]
     },
     "execution_count": 19,
     "metadata": {},
     "output_type": "execute_result"
    }
   ],
   "source": [
    "df = pd.DataFrame({\n",
    "    \"nome\": [\"Ana\", \"João\", \"Maria\", \"Pedro\", \"Marcelo\", \"Marta\", \"Lucas\"],\n",
    "    \"idade\": [23, 35, 19, 40, 28, 32, 30],\n",
    "    \"salario\": [2500, 4000, 3200, 5000, 2700, 3300, 2900]\n",
    "})\n",
    "\n",
    "df[df[\"nome\"].apply(lambda nome: nome.startswith(\"M\"))]"
   ]
  },
  {
   "cell_type": "markdown",
   "id": "fec49082",
   "metadata": {},
   "source": [
    "## Exercício 12: Crie uma coluna \"nota_final\", que seja 0.4 * prova1 + 0.6 * prova2"
   ]
  },
  {
   "cell_type": "code",
   "execution_count": 24,
   "id": "d1e5b15f",
   "metadata": {},
   "outputs": [
    {
     "data": {
      "text/html": [
       "<div>\n",
       "<style scoped>\n",
       "    .dataframe tbody tr th:only-of-type {\n",
       "        vertical-align: middle;\n",
       "    }\n",
       "\n",
       "    .dataframe tbody tr th {\n",
       "        vertical-align: top;\n",
       "    }\n",
       "\n",
       "    .dataframe thead th {\n",
       "        text-align: right;\n",
       "    }\n",
       "</style>\n",
       "<table border=\"1\" class=\"dataframe\">\n",
       "  <thead>\n",
       "    <tr style=\"text-align: right;\">\n",
       "      <th></th>\n",
       "      <th>aluno</th>\n",
       "      <th>prova1</th>\n",
       "      <th>prova2</th>\n",
       "      <th>nota_final</th>\n",
       "    </tr>\n",
       "  </thead>\n",
       "  <tbody>\n",
       "    <tr>\n",
       "      <th>0</th>\n",
       "      <td>Ana</td>\n",
       "      <td>8</td>\n",
       "      <td>7</td>\n",
       "      <td>7.4</td>\n",
       "    </tr>\n",
       "    <tr>\n",
       "      <th>1</th>\n",
       "      <td>João</td>\n",
       "      <td>7</td>\n",
       "      <td>8</td>\n",
       "      <td>7.6</td>\n",
       "    </tr>\n",
       "    <tr>\n",
       "      <th>2</th>\n",
       "      <td>Maria</td>\n",
       "      <td>9</td>\n",
       "      <td>10</td>\n",
       "      <td>9.6</td>\n",
       "    </tr>\n",
       "    <tr>\n",
       "      <th>3</th>\n",
       "      <td>Pedro</td>\n",
       "      <td>6</td>\n",
       "      <td>5</td>\n",
       "      <td>5.4</td>\n",
       "    </tr>\n",
       "  </tbody>\n",
       "</table>\n",
       "</div>"
      ],
      "text/plain": [
       "   aluno  prova1  prova2  nota_final\n",
       "0    Ana       8       7         7.4\n",
       "1   João       7       8         7.6\n",
       "2  Maria       9      10         9.6\n",
       "3  Pedro       6       5         5.4"
      ]
     },
     "execution_count": 24,
     "metadata": {},
     "output_type": "execute_result"
    }
   ],
   "source": [
    "import pandas as pd\n",
    "\n",
    "df = pd.DataFrame({\n",
    "    \"aluno\": [\"Ana\", \"João\", \"Maria\", \"Pedro\"],\n",
    "    \"prova1\": [8, 7, 9, 6],\n",
    "    \"prova2\": [7, 8, 10, 5]\n",
    "})\n",
    "\n",
    "\n",
    "df[\"nota_final\"] = df.apply(lambda row: (0.4 * row[\"prova1\"]) + (0.6 * row[\"prova2\"]), axis=1)\n",
    "df"
   ]
  }
 ],
 "metadata": {
  "kernelspec": {
   "display_name": "3.12.0",
   "language": "python",
   "name": "python3"
  },
  "language_info": {
   "codemirror_mode": {
    "name": "ipython",
    "version": 3
   },
   "file_extension": ".py",
   "mimetype": "text/x-python",
   "name": "python",
   "nbconvert_exporter": "python",
   "pygments_lexer": "ipython3",
   "version": "3.12.0"
  }
 },
 "nbformat": 4,
 "nbformat_minor": 5
}
